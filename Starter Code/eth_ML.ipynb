{
 "cells": [
  {
   "cell_type": "code",
   "execution_count": 15,
   "id": "0d4dea66-64af-4a4a-bfde-21584767e523",
   "metadata": {},
   "outputs": [],
   "source": [
    "# Imports\n",
    "import pandas as pd\n",
    "from pathlib import Path\n",
    "import numpy as np\n",
    "import matplotlib.pyplot as plt\n",
    "\n",
    "%matplotlib inline"
   ]
  },
  {
   "cell_type": "code",
   "execution_count": 2,
   "id": "70989193-2758-47b3-90a8-6e188de54241",
   "metadata": {},
   "outputs": [
    {
     "data": {
      "text/html": [
       "<div>\n",
       "<style scoped>\n",
       "    .dataframe tbody tr th:only-of-type {\n",
       "        vertical-align: middle;\n",
       "    }\n",
       "\n",
       "    .dataframe tbody tr th {\n",
       "        vertical-align: top;\n",
       "    }\n",
       "\n",
       "    .dataframe thead th {\n",
       "        text-align: right;\n",
       "    }\n",
       "</style>\n",
       "<table border=\"1\" class=\"dataframe\">\n",
       "  <thead>\n",
       "    <tr style=\"text-align: right;\">\n",
       "      <th></th>\n",
       "      <th>Date</th>\n",
       "      <th>Open</th>\n",
       "      <th>High</th>\n",
       "      <th>Low</th>\n",
       "      <th>Close</th>\n",
       "      <th>Adj Close</th>\n",
       "      <th>Volume</th>\n",
       "    </tr>\n",
       "  </thead>\n",
       "  <tbody>\n",
       "    <tr>\n",
       "      <th>0</th>\n",
       "      <td>2018-07-27</td>\n",
       "      <td>464.009003</td>\n",
       "      <td>473.221985</td>\n",
       "      <td>458.290985</td>\n",
       "      <td>469.665985</td>\n",
       "      <td>469.665985</td>\n",
       "      <td>1.734260e+09</td>\n",
       "    </tr>\n",
       "    <tr>\n",
       "      <th>1</th>\n",
       "      <td>2018-07-28</td>\n",
       "      <td>469.678009</td>\n",
       "      <td>471.593994</td>\n",
       "      <td>462.989014</td>\n",
       "      <td>466.898010</td>\n",
       "      <td>466.898010</td>\n",
       "      <td>1.531890e+09</td>\n",
       "    </tr>\n",
       "    <tr>\n",
       "      <th>2</th>\n",
       "      <td>2018-07-29</td>\n",
       "      <td>466.915009</td>\n",
       "      <td>470.355988</td>\n",
       "      <td>462.712006</td>\n",
       "      <td>466.665009</td>\n",
       "      <td>466.665009</td>\n",
       "      <td>1.631910e+09</td>\n",
       "    </tr>\n",
       "    <tr>\n",
       "      <th>3</th>\n",
       "      <td>2018-07-30</td>\n",
       "      <td>466.826996</td>\n",
       "      <td>467.951996</td>\n",
       "      <td>448.640991</td>\n",
       "      <td>457.080994</td>\n",
       "      <td>457.080994</td>\n",
       "      <td>2.141590e+09</td>\n",
       "    </tr>\n",
       "    <tr>\n",
       "      <th>4</th>\n",
       "      <td>2018-07-31</td>\n",
       "      <td>457.244995</td>\n",
       "      <td>457.244995</td>\n",
       "      <td>430.444000</td>\n",
       "      <td>433.867004</td>\n",
       "      <td>433.867004</td>\n",
       "      <td>1.820680e+09</td>\n",
       "    </tr>\n",
       "  </tbody>\n",
       "</table>\n",
       "</div>"
      ],
      "text/plain": [
       "         Date        Open        High         Low       Close   Adj Close  \\\n",
       "0  2018-07-27  464.009003  473.221985  458.290985  469.665985  469.665985   \n",
       "1  2018-07-28  469.678009  471.593994  462.989014  466.898010  466.898010   \n",
       "2  2018-07-29  466.915009  470.355988  462.712006  466.665009  466.665009   \n",
       "3  2018-07-30  466.826996  467.951996  448.640991  457.080994  457.080994   \n",
       "4  2018-07-31  457.244995  457.244995  430.444000  433.867004  433.867004   \n",
       "\n",
       "         Volume  \n",
       "0  1.734260e+09  \n",
       "1  1.531890e+09  \n",
       "2  1.631910e+09  \n",
       "3  2.141590e+09  \n",
       "4  1.820680e+09  "
      ]
     },
     "execution_count": 2,
     "metadata": {},
     "output_type": "execute_result"
    }
   ],
   "source": [
    "# Create and view Dataframe\n",
    "csv_path = Path(\"../Resources/Eth_USD_18_23.csv\")\n",
    "eth_data = pd.read_csv(csv_path)\n",
    "eth_data.head()"
   ]
  },
  {
   "cell_type": "code",
   "execution_count": 3,
   "id": "597a4628-477d-43d6-964f-94031a427c9b",
   "metadata": {},
   "outputs": [
    {
     "data": {
      "text/plain": [
       "Date          object\n",
       "Open         float64\n",
       "High         float64\n",
       "Low          float64\n",
       "Close        float64\n",
       "Adj Close    float64\n",
       "Volume       float64\n",
       "dtype: object"
      ]
     },
     "execution_count": 3,
     "metadata": {},
     "output_type": "execute_result"
    }
   ],
   "source": [
    "# Check datatypes \n",
    "eth_data.dtypes"
   ]
  },
  {
   "cell_type": "code",
   "execution_count": 5,
   "id": "2a6c1224-17d7-44bb-8648-4f8b4491f045",
   "metadata": {},
   "outputs": [
    {
     "data": {
      "text/html": [
       "<div>\n",
       "<style scoped>\n",
       "    .dataframe tbody tr th:only-of-type {\n",
       "        vertical-align: middle;\n",
       "    }\n",
       "\n",
       "    .dataframe tbody tr th {\n",
       "        vertical-align: top;\n",
       "    }\n",
       "\n",
       "    .dataframe thead th {\n",
       "        text-align: right;\n",
       "    }\n",
       "</style>\n",
       "<table border=\"1\" class=\"dataframe\">\n",
       "  <thead>\n",
       "    <tr style=\"text-align: right;\">\n",
       "      <th></th>\n",
       "      <th>Date</th>\n",
       "      <th>Open</th>\n",
       "      <th>High</th>\n",
       "      <th>Low</th>\n",
       "      <th>Close</th>\n",
       "      <th>Adj Close</th>\n",
       "      <th>Volume</th>\n",
       "    </tr>\n",
       "  </thead>\n",
       "  <tbody>\n",
       "    <tr>\n",
       "      <th>1823</th>\n",
       "      <td>2023-07-24</td>\n",
       "      <td>1888.809570</td>\n",
       "      <td>1889.761963</td>\n",
       "      <td>1836.852417</td>\n",
       "      <td>1850.002075</td>\n",
       "      <td>1850.002075</td>\n",
       "      <td>6.344374e+09</td>\n",
       "    </tr>\n",
       "    <tr>\n",
       "      <th>1824</th>\n",
       "      <td>2023-07-25</td>\n",
       "      <td>1850.027954</td>\n",
       "      <td>1867.323242</td>\n",
       "      <td>1845.981567</td>\n",
       "      <td>1857.741943</td>\n",
       "      <td>1857.741943</td>\n",
       "      <td>4.163382e+09</td>\n",
       "    </tr>\n",
       "    <tr>\n",
       "      <th>1825</th>\n",
       "      <td>2023-07-26</td>\n",
       "      <td>1857.696533</td>\n",
       "      <td>1886.974121</td>\n",
       "      <td>1849.436890</td>\n",
       "      <td>1872.159912</td>\n",
       "      <td>1872.159912</td>\n",
       "      <td>5.781548e+09</td>\n",
       "    </tr>\n",
       "    <tr>\n",
       "      <th>1826</th>\n",
       "      <td>2023-07-27</td>\n",
       "      <td>NaN</td>\n",
       "      <td>NaN</td>\n",
       "      <td>NaN</td>\n",
       "      <td>NaN</td>\n",
       "      <td>NaN</td>\n",
       "      <td>NaN</td>\n",
       "    </tr>\n",
       "    <tr>\n",
       "      <th>1827</th>\n",
       "      <td>2023-07-28</td>\n",
       "      <td>1860.816284</td>\n",
       "      <td>1863.987915</td>\n",
       "      <td>1860.660034</td>\n",
       "      <td>1861.275757</td>\n",
       "      <td>1861.275757</td>\n",
       "      <td>4.093237e+09</td>\n",
       "    </tr>\n",
       "  </tbody>\n",
       "</table>\n",
       "</div>"
      ],
      "text/plain": [
       "           Date         Open         High          Low        Close  \\\n",
       "1823 2023-07-24  1888.809570  1889.761963  1836.852417  1850.002075   \n",
       "1824 2023-07-25  1850.027954  1867.323242  1845.981567  1857.741943   \n",
       "1825 2023-07-26  1857.696533  1886.974121  1849.436890  1872.159912   \n",
       "1826 2023-07-27          NaN          NaN          NaN          NaN   \n",
       "1827 2023-07-28  1860.816284  1863.987915  1860.660034  1861.275757   \n",
       "\n",
       "        Adj Close        Volume  \n",
       "1823  1850.002075  6.344374e+09  \n",
       "1824  1857.741943  4.163382e+09  \n",
       "1825  1872.159912  5.781548e+09  \n",
       "1826          NaN           NaN  \n",
       "1827  1861.275757  4.093237e+09  "
      ]
     },
     "execution_count": 5,
     "metadata": {},
     "output_type": "execute_result"
    }
   ],
   "source": [
    "# Convert Date time\n",
    "eth_data['Date'] = pd.to_datetime(eth_data['Date'])\n",
    "eth_data.tail()"
   ]
  },
  {
   "cell_type": "code",
   "execution_count": 6,
   "id": "decd188b-751d-454d-97b3-45d65868e684",
   "metadata": {},
   "outputs": [
    {
     "data": {
      "text/plain": [
       "Date         datetime64[ns]\n",
       "Open                float64\n",
       "High                float64\n",
       "Low                 float64\n",
       "Close               float64\n",
       "Adj Close           float64\n",
       "Volume              float64\n",
       "dtype: object"
      ]
     },
     "execution_count": 6,
     "metadata": {},
     "output_type": "execute_result"
    }
   ],
   "source": [
    "#Confirm Datetime changed\n",
    "eth_data.dtypes"
   ]
  },
  {
   "cell_type": "code",
   "execution_count": 7,
   "id": "8c7ab3fd-2c3a-4885-94d2-244f3f2455f3",
   "metadata": {},
   "outputs": [
    {
     "data": {
      "text/html": [
       "<div>\n",
       "<style scoped>\n",
       "    .dataframe tbody tr th:only-of-type {\n",
       "        vertical-align: middle;\n",
       "    }\n",
       "\n",
       "    .dataframe tbody tr th {\n",
       "        vertical-align: top;\n",
       "    }\n",
       "\n",
       "    .dataframe thead th {\n",
       "        text-align: right;\n",
       "    }\n",
       "</style>\n",
       "<table border=\"1\" class=\"dataframe\">\n",
       "  <thead>\n",
       "    <tr style=\"text-align: right;\">\n",
       "      <th></th>\n",
       "      <th>Date</th>\n",
       "      <th>Close</th>\n",
       "    </tr>\n",
       "  </thead>\n",
       "  <tbody>\n",
       "    <tr>\n",
       "      <th>0</th>\n",
       "      <td>2018-07-27</td>\n",
       "      <td>469.665985</td>\n",
       "    </tr>\n",
       "    <tr>\n",
       "      <th>1</th>\n",
       "      <td>2018-07-28</td>\n",
       "      <td>466.898010</td>\n",
       "    </tr>\n",
       "    <tr>\n",
       "      <th>2</th>\n",
       "      <td>2018-07-29</td>\n",
       "      <td>466.665009</td>\n",
       "    </tr>\n",
       "    <tr>\n",
       "      <th>3</th>\n",
       "      <td>2018-07-30</td>\n",
       "      <td>457.080994</td>\n",
       "    </tr>\n",
       "    <tr>\n",
       "      <th>4</th>\n",
       "      <td>2018-07-31</td>\n",
       "      <td>433.867004</td>\n",
       "    </tr>\n",
       "  </tbody>\n",
       "</table>\n",
       "</div>"
      ],
      "text/plain": [
       "        Date       Close\n",
       "0 2018-07-27  469.665985\n",
       "1 2018-07-28  466.898010\n",
       "2 2018-07-29  466.665009\n",
       "3 2018-07-30  457.080994\n",
       "4 2018-07-31  433.867004"
      ]
     },
     "execution_count": 7,
     "metadata": {},
     "output_type": "execute_result"
    }
   ],
   "source": [
    "#Copy dataframe date and close columns only\n",
    "eth_close = eth_data[['Date','Close']].copy()\n",
    "eth_close.head()"
   ]
  },
  {
   "cell_type": "code",
   "execution_count": 8,
   "id": "5a77141f-b843-49d3-8b1d-347fe229d382",
   "metadata": {},
   "outputs": [
    {
     "data": {
      "text/html": [
       "<div>\n",
       "<style scoped>\n",
       "    .dataframe tbody tr th:only-of-type {\n",
       "        vertical-align: middle;\n",
       "    }\n",
       "\n",
       "    .dataframe tbody tr th {\n",
       "        vertical-align: top;\n",
       "    }\n",
       "\n",
       "    .dataframe thead th {\n",
       "        text-align: right;\n",
       "    }\n",
       "</style>\n",
       "<table border=\"1\" class=\"dataframe\">\n",
       "  <thead>\n",
       "    <tr style=\"text-align: right;\">\n",
       "      <th></th>\n",
       "      <th>Date</th>\n",
       "      <th>Close</th>\n",
       "    </tr>\n",
       "  </thead>\n",
       "  <tbody>\n",
       "    <tr>\n",
       "      <th>1822</th>\n",
       "      <td>2023-07-23</td>\n",
       "      <td>1889.191650</td>\n",
       "    </tr>\n",
       "    <tr>\n",
       "      <th>1823</th>\n",
       "      <td>2023-07-24</td>\n",
       "      <td>1850.002075</td>\n",
       "    </tr>\n",
       "    <tr>\n",
       "      <th>1824</th>\n",
       "      <td>2023-07-25</td>\n",
       "      <td>1857.741943</td>\n",
       "    </tr>\n",
       "    <tr>\n",
       "      <th>1825</th>\n",
       "      <td>2023-07-26</td>\n",
       "      <td>1872.159912</td>\n",
       "    </tr>\n",
       "    <tr>\n",
       "      <th>1827</th>\n",
       "      <td>2023-07-28</td>\n",
       "      <td>1861.275757</td>\n",
       "    </tr>\n",
       "  </tbody>\n",
       "</table>\n",
       "</div>"
      ],
      "text/plain": [
       "           Date        Close\n",
       "1822 2023-07-23  1889.191650\n",
       "1823 2023-07-24  1850.002075\n",
       "1824 2023-07-25  1857.741943\n",
       "1825 2023-07-26  1872.159912\n",
       "1827 2023-07-28  1861.275757"
      ]
     },
     "execution_count": 8,
     "metadata": {},
     "output_type": "execute_result"
    }
   ],
   "source": [
    "eth_close.dropna(inplace=True)\n",
    "eth_close.tail()"
   ]
  },
  {
   "cell_type": "code",
   "execution_count": 11,
   "id": "aa064fcd-a008-4a53-98e6-f16c19c1442a",
   "metadata": {},
   "outputs": [
    {
     "data": {
      "text/html": [
       "<div>\n",
       "<style scoped>\n",
       "    .dataframe tbody tr th:only-of-type {\n",
       "        vertical-align: middle;\n",
       "    }\n",
       "\n",
       "    .dataframe tbody tr th {\n",
       "        vertical-align: top;\n",
       "    }\n",
       "\n",
       "    .dataframe thead th {\n",
       "        text-align: right;\n",
       "    }\n",
       "</style>\n",
       "<table border=\"1\" class=\"dataframe\">\n",
       "  <thead>\n",
       "    <tr style=\"text-align: right;\">\n",
       "      <th></th>\n",
       "      <th>Close</th>\n",
       "    </tr>\n",
       "    <tr>\n",
       "      <th>Date</th>\n",
       "      <th></th>\n",
       "    </tr>\n",
       "  </thead>\n",
       "  <tbody>\n",
       "    <tr>\n",
       "      <th>2018-07-27</th>\n",
       "      <td>469.665985</td>\n",
       "    </tr>\n",
       "    <tr>\n",
       "      <th>2018-07-28</th>\n",
       "      <td>466.898010</td>\n",
       "    </tr>\n",
       "    <tr>\n",
       "      <th>2018-07-29</th>\n",
       "      <td>466.665009</td>\n",
       "    </tr>\n",
       "    <tr>\n",
       "      <th>2018-07-30</th>\n",
       "      <td>457.080994</td>\n",
       "    </tr>\n",
       "    <tr>\n",
       "      <th>2018-07-31</th>\n",
       "      <td>433.867004</td>\n",
       "    </tr>\n",
       "  </tbody>\n",
       "</table>\n",
       "</div>"
      ],
      "text/plain": [
       "                 Close\n",
       "Date                  \n",
       "2018-07-27  469.665985\n",
       "2018-07-28  466.898010\n",
       "2018-07-29  466.665009\n",
       "2018-07-30  457.080994\n",
       "2018-07-31  433.867004"
      ]
     },
     "execution_count": 11,
     "metadata": {},
     "output_type": "execute_result"
    }
   ],
   "source": [
    "eth_close.set_index('Date', inplace=True)\n",
    "eth_close.head()"
   ]
  },
  {
   "cell_type": "code",
   "execution_count": 12,
   "id": "f6ad14f7-e806-4c82-8798-5f71cf21ce18",
   "metadata": {},
   "outputs": [
    {
     "data": {
      "text/plain": [
       "<AxesSubplot:xlabel='Date'>"
      ]
     },
     "execution_count": 12,
     "metadata": {},
     "output_type": "execute_result"
    },
    {
     "data": {
      "image/png": "[encoded data removed]",
      "text/plain": [
       "<Figure size 640x480 with 1 Axes>"
      ]
     },
     "metadata": {},
     "output_type": "display_data"
    }
   ],
   "source": [
    "eth_close.plot()"
   ]
  },
  {
   "cell_type": "code",
   "execution_count": 13,
   "id": "a5e3d330-4d6a-4ae0-91db-33aa034820a2",
   "metadata": {},
   "outputs": [
    {
     "data": {
      "text/plain": [
       "<AxesSubplot:xlabel='Date'>"
      ]
     },
     "execution_count": 13,
     "metadata": {},
     "output_type": "execute_result"
    },
    {
     "data": {
      "image/png": "[encoded data removed]",
      "text/plain": [
       "<Figure size 640x480 with 1 Axes>"
      ]
     },
     "metadata": {},
     "output_type": "display_data"
    }
   ],
   "source": [
    "eth_close.rolling(window=30).mean().plot()"
   ]
  },
  {
   "cell_type": "code",
   "execution_count": null,
   "id": "bfc357c6-c9ed-4a69-9412-b7308439d6fe",
   "metadata": {},
   "outputs": [],
   "source": []
  }
 ],
 "metadata": {
  "kernelspec": {
   "display_name": "Python 3 (ipykernel)",
   "language": "python",
   "name": "python3"
  },
  "language_info": {
   "codemirror_mode": {
    "name": "ipython",
    "version": 3
   },
   "file_extension": ".py",
   "mimetype": "text/x-python",
   "name": "python",
   "nbconvert_exporter": "python",
   "pygments_lexer": "ipython3",
   "version": "3.7.13"
  }
 },
 "nbformat": 4,
 "nbformat_minor": 5
}
