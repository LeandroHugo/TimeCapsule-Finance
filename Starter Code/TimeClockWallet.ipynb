# Imports
import streamlit as st
from web3 import Web3

# Initialize a Web3 instance
w3 = Web3(Web3.HTTPProvider("HTTP://127.0.0.1:7545"))

# Contract address (replace with your contract's address)
contract_address = '0xYourContractAddress'

# Contract ABI (replace with your contract's ABI)
contract_abi = 'YourContractABI'

# Initialize contract
contract = w3.eth.contract(address=contract_address, abi=contract_abi)

# Streamlit Code
st.markdown("# Time Lock Wallet")

# Display contract owner
st.write("Owner: ", contract.functions.owner().call())

# Display lock time
st.write("Lock Time: ", contract.functions.lockTime().call())

# Deposit funds
if st.button("Deposit"):
    value = st.number_input("Amount to deposit (ETH): ", min_value=0.01)
    tx_hash = contract.functions.deposit().transact({'from': w3.eth.accounts[0], 'value': w3.toWei(value, 'ether')})
    st.write("Transaction Hash: ", w3.toHex(tx_hash))

# Set lock time
if st.button("Set Lock Time"):
    lock_time = st.number_input("Lock Time (seconds from now): ", min_value=1)
    tx_hash = contract.functions.setLockTime(int(time.time()) + lock_time).transact({'from': w3.eth.accounts[0]})
    st.write("Transaction Hash: ", w3.toHex(tx_hash))

# Withdraw funds
if st.button("Withdraw"):
    tx_hash = contract.functions.withdraw().transact({'from': w3.eth.accounts[0]})
    st.write("Transaction Hash: ", w3.toHex(tx_hash))
