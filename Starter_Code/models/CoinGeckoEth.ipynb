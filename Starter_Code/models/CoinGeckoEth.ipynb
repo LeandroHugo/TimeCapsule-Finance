{
 "cells": [
  {
   "cell_type": "code",
   "execution_count": 1,
   "metadata": {},
   "outputs": [
    {
     "name": "stdout",
     "output_type": "stream",
     "text": [
      "Requirement already satisfied: requests in /Users/leandrohugo/opt/anaconda3/envs/myenv/lib/python3.8/site-packages (2.31.0)\n",
      "Requirement already satisfied: charset-normalizer<4,>=2 in /Users/leandrohugo/opt/anaconda3/envs/myenv/lib/python3.8/site-packages (from requests) (3.2.0)\n",
      "Requirement already satisfied: idna<4,>=2.5 in /Users/leandrohugo/opt/anaconda3/envs/myenv/lib/python3.8/site-packages (from requests) (3.4)\n",
      "Requirement already satisfied: urllib3<3,>=1.21.1 in /Users/leandrohugo/opt/anaconda3/envs/myenv/lib/python3.8/site-packages (from requests) (1.26.16)\n",
      "Requirement already satisfied: certifi>=2017.4.17 in /Users/leandrohugo/opt/anaconda3/envs/myenv/lib/python3.8/site-packages (from requests) (2023.5.7)\n",
      "Note: you may need to restart the kernel to use updated packages.\n"
     ]
    }
   ],
   "source": [
    "pip install requests\n"
   ]
  },
  {
   "cell_type": "code",
   "execution_count": 2,
   "metadata": {},
   "outputs": [
    {
     "name": "stdout",
     "output_type": "stream",
     "text": [
      "            price                date\n",
      "0      228.340912 2018-09-25 00:00:00\n",
      "1      219.504344 2018-09-26 00:00:00\n",
      "2      214.979380 2018-09-27 00:00:00\n",
      "3      229.221959 2018-09-28 00:00:00\n",
      "4      222.229240 2018-09-29 00:00:00\n",
      "...           ...                 ...\n",
      "1821  1643.698418 2023-09-20 00:00:00\n",
      "1822  1621.532955 2023-09-21 00:00:00\n",
      "1823  1583.824247 2023-09-22 00:00:00\n",
      "1824  1593.470154 2023-09-23 00:00:00\n",
      "1825  1591.865832 2023-09-23 22:39:22\n",
      "\n",
      "[1826 rows x 2 columns]\n"
     ]
    }
   ],
   "source": [
    "import requests\n",
    "import pandas as pd\n",
    "\n",
    "def get_ethereum_historical_data(api_key):\n",
    "    # Define the endpoint URL\n",
    "    base_url = \"https://api.coingecko.com/api/v3\"\n",
    "    endpoint = \"/coins/ethereum/market_chart\"\n",
    "    \n",
    "    # Define the parameters\n",
    "    params = {\n",
    "        'vs_currency': 'usd',\n",
    "        'days': '1825',  # approximately 5 years\n",
    "        'interval': 'daily'\n",
    "    }\n",
    "    \n",
    "    # Set up the headers with your API key\n",
    "    headers = {\n",
    "        'Authorization': f'Bearer {api_key}'\n",
    "    }\n",
    "    \n",
    "    # Make the API request\n",
    "    response = requests.get(base_url + endpoint, params=params, headers=headers)\n",
    "    \n",
    "    # Check if the request was successful\n",
    "    if response.status_code == 200:\n",
    "        return response.json()\n",
    "    else:\n",
    "        return None\n",
    "\n",
    "def convert_to_dataframe(data):\n",
    "    # Extract prices from the data\n",
    "    prices = data['prices']\n",
    "    \n",
    "    # Convert to DataFrame\n",
    "    df = pd.DataFrame(prices, columns=['timestamp', 'price'])\n",
    "    \n",
    "    # Convert timestamp to datetime format\n",
    "    df['date'] = pd.to_datetime(df['timestamp'], unit='ms')\n",
    "    df.drop('timestamp', axis=1, inplace=True)\n",
    "    \n",
    "    return df\n",
    "\n",
    "# Use the functions\n",
    "api_key = \"YOUR_API_KEY_HERE\"  # Replace with your API key\n",
    "data = get_ethereum_historical_data(api_key)\n",
    "\n",
    "if data:\n",
    "    df = convert_to_dataframe(data)\n",
    "    print(df)\n",
    "else:\n",
    "    print(\"Failed to retrieve data.\")\n",
    "\n"
   ]
  },
  {
   "cell_type": "code",
   "execution_count": null,
   "metadata": {},
   "outputs": [],
   "source": []
  },
  {
   "cell_type": "code",
   "execution_count": 3,
   "metadata": {},
   "outputs": [
    {
     "name": "stdout",
     "output_type": "stream",
     "text": [
      "Data saved to ethereum_historical_data.csv\n"
     ]
    }
   ],
   "source": [
    "import requests\n",
    "import pandas as pd\n",
    "\n",
    "def get_ethereum_historical_data(api_key):\n",
    "    # Define the endpoint URL\n",
    "    base_url = \"https://api.coingecko.com/api/v3\"\n",
    "    endpoint = \"/coins/ethereum/market_chart\"\n",
    "    \n",
    "    # Define the parameters\n",
    "    params = {\n",
    "        'vs_currency': 'usd',\n",
    "        'days': '1825',  # approximately 5 years\n",
    "        'interval': 'daily'\n",
    "    }\n",
    "    \n",
    "    # Set up the headers with your API key\n",
    "    headers = {\n",
    "        'Authorization': f'Bearer {api_key}'\n",
    "    }\n",
    "    \n",
    "    # Make the API request\n",
    "    response = requests.get(base_url + endpoint, params=params, headers=headers)\n",
    "    \n",
    "    # Check if the request was successful\n",
    "    if response.status_code == 200:\n",
    "        return response.json()\n",
    "    else:\n",
    "        return None\n",
    "\n",
    "def convert_to_dataframe(data):\n",
    "    # Extract prices from the data\n",
    "    prices = data['prices']\n",
    "    \n",
    "    # Convert to DataFrame\n",
    "    df = pd.DataFrame(prices, columns=['timestamp', 'price'])\n",
    "    \n",
    "    # Convert timestamp to datetime format\n",
    "    df['date'] = pd.to_datetime(df['timestamp'], unit='ms')\n",
    "    df.drop('timestamp', axis=1, inplace=True)\n",
    "    \n",
    "    return df\n",
    "\n",
    "def save_to_csv(df, filename=\"ethereum_historical_data.csv\"):\n",
    "    df.to_csv(filename, index=False)\n",
    "    print(f\"Data saved to {filename}\")\n",
    "\n",
    "# Use the functions\n",
    "api_key = \"YOUR_API_KEY_HERE\"  # Replace with your API key\n",
    "data = get_ethereum_historical_data(api_key)\n",
    "\n",
    "if data:\n",
    "    df = convert_to_dataframe(data)\n",
    "    save_to_csv(df)\n",
    "else:\n",
    "    print(\"Failed to retrieve data.\")\n"
   ]
  }
 ],
 "metadata": {
  "kernelspec": {
   "display_name": "myenv",
   "language": "python",
   "name": "python3"
  },
  "language_info": {
   "codemirror_mode": {
    "name": "ipython",
    "version": 3
   },
   "file_extension": ".py",
   "mimetype": "text/x-python",
   "name": "python",
   "nbconvert_exporter": "python",
   "pygments_lexer": "ipython3",
   "version": "3.8.17"
  },
  "orig_nbformat": 4
 },
 "nbformat": 4,
 "nbformat_minor": 2
}
