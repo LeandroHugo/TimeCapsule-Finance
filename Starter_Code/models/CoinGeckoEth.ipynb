{
 "cells": [
  {
   "cell_type": "code",
   "execution_count": 1,
   "metadata": {},
   "outputs": [
    {
     "name": "stdout",
     "output_type": "stream",
     "text": [
      "Requirement already satisfied: requests in /Users/leandrohugo/opt/anaconda3/envs/myenv/lib/python3.8/site-packages (2.31.0)\n",
      "Requirement already satisfied: charset-normalizer<4,>=2 in /Users/leandrohugo/opt/anaconda3/envs/myenv/lib/python3.8/site-packages (from requests) (3.2.0)\n",
      "Requirement already satisfied: idna<4,>=2.5 in /Users/leandrohugo/opt/anaconda3/envs/myenv/lib/python3.8/site-packages (from requests) (3.4)\n",
      "Requirement already satisfied: urllib3<3,>=1.21.1 in /Users/leandrohugo/opt/anaconda3/envs/myenv/lib/python3.8/site-packages (from requests) (1.26.16)\n",
      "Requirement already satisfied: certifi>=2017.4.17 in /Users/leandrohugo/opt/anaconda3/envs/myenv/lib/python3.8/site-packages (from requests) (2023.5.7)\n",
      "Note: you may need to restart the kernel to use updated packages.\n"
     ]
    }
   ],
   "source": [
    "pip install requests\n"
   ]
  },
  {
   "cell_type": "code",
   "execution_count": 2,
   "metadata": {},
   "outputs": [
    {
     "name": "stdout",
     "output_type": "stream",
     "text": [
      "            price                date\n",
      "0      232.595769 2018-09-06 00:00:00\n",
      "1      229.374958 2018-09-07 00:00:00\n",
      "2      215.432237 2018-09-08 00:00:00\n",
      "3      196.865387 2018-09-09 00:00:00\n",
      "4      195.877338 2018-09-10 00:00:00\n",
      "...           ...                 ...\n",
      "1821  1645.181525 2023-09-01 00:00:00\n",
      "1822  1630.605890 2023-09-02 00:00:00\n",
      "1823  1636.162199 2023-09-03 00:00:00\n",
      "1824  1635.403043 2023-09-04 00:00:00\n",
      "1825  1639.021319 2023-09-04 08:20:51\n",
      "\n",
      "[1826 rows x 2 columns]\n"
     ]
    }
   ],
   "source": [
    "import requests\n",
    "import pandas as pd\n",
    "\n",
    "def get_ethereum_historical_data(api_key):\n",
    "    # Define the endpoint URL\n",
    "    base_url = \"https://api.coingecko.com/api/v3\"\n",
    "    endpoint = \"/coins/ethereum/market_chart\"\n",
    "    \n",
    "    # Define the parameters\n",
    "    params = {\n",
    "        'vs_currency': 'usd',\n",
    "        'days': '1825',  # approximately 5 years\n",
    "        'interval': 'daily'\n",
    "    }\n",
    "    \n",
    "    # Set up the headers with your API key\n",
    "    headers = {\n",
    "        'Authorization': f'Bearer {api_key}'\n",
    "    }\n",
    "    \n",
    "    # Make the API request\n",
    "    response = requests.get(base_url + endpoint, params=params, headers=headers)\n",
    "    \n",
    "    # Check if the request was successful\n",
    "    if response.status_code == 200:\n",
    "        return response.json()\n",
    "    else:\n",
    "        return None\n",
    "\n",
    "def convert_to_dataframe(data):\n",
    "    # Extract prices from the data\n",
    "    prices = data['prices']\n",
    "    \n",
    "    # Convert to DataFrame\n",
    "    df = pd.DataFrame(prices, columns=['timestamp', 'price'])\n",
    "    \n",
    "    # Convert timestamp to datetime format\n",
    "    df['date'] = pd.to_datetime(df['timestamp'], unit='ms')\n",
    "    df.drop('timestamp', axis=1, inplace=True)\n",
    "    \n",
    "    return df\n",
    "\n",
    "# Use the functions\n",
    "api_key = \"YOUR_API_KEY_HERE\"  # Replace with your API key\n",
    "data = get_ethereum_historical_data(api_key)\n",
    "\n",
    "if data:\n",
    "    df = convert_to_dataframe(data)\n",
    "    print(df)\n",
    "else:\n",
    "    print(\"Failed to retrieve data.\")\n",
    "\n"
   ]
  },
  {
   "cell_type": "code",
   "execution_count": null,
   "metadata": {},
   "outputs": [],
   "source": []
  },
  {
   "cell_type": "code",
   "execution_count": 3,
   "metadata": {},
   "outputs": [
    {
     "name": "stdout",
     "output_type": "stream",
     "text": [
      "Data saved to ethereum_historical_data.csv\n"
     ]
    }
   ],
   "source": [
    "import requests\n",
    "import pandas as pd\n",
    "\n",
    "def get_ethereum_historical_data(api_key):\n",
    "    # Define the endpoint URL\n",
    "    base_url = \"https://api.coingecko.com/api/v3\"\n",
    "    endpoint = \"/coins/ethereum/market_chart\"\n",
    "    \n",
    "    # Define the parameters\n",
    "    params = {\n",
    "        'vs_currency': 'usd',\n",
    "        'days': '1825',  # approximately 5 years\n",
    "        'interval': 'daily'\n",
    "    }\n",
    "    \n",
    "    # Set up the headers with your API key\n",
    "    headers = {\n",
    "        'Authorization': f'Bearer {api_key}'\n",
    "    }\n",
    "    \n",
    "    # Make the API request\n",
    "    response = requests.get(base_url + endpoint, params=params, headers=headers)\n",
    "    \n",
    "    # Check if the request was successful\n",
    "    if response.status_code == 200:\n",
    "        return response.json()\n",
    "    else:\n",
    "        return None\n",
    "\n",
    "def convert_to_dataframe(data):\n",
    "    # Extract prices from the data\n",
    "    prices = data['prices']\n",
    "    \n",
    "    # Convert to DataFrame\n",
    "    df = pd.DataFrame(prices, columns=['timestamp', 'price'])\n",
    "    \n",
    "    # Convert timestamp to datetime format\n",
    "    df['date'] = pd.to_datetime(df['timestamp'], unit='ms')\n",
    "    df.drop('timestamp', axis=1, inplace=True)\n",
    "    \n",
    "    return df\n",
    "\n",
    "def save_to_csv(df, filename=\"ethereum_historical_data.csv\"):\n",
    "    df.to_csv(filename, index=False)\n",
    "    print(f\"Data saved to {filename}\")\n",
    "\n",
    "# Use the functions\n",
    "api_key = \"YOUR_API_KEY_HERE\"  # Replace with your API key\n",
    "data = get_ethereum_historical_data(api_key)\n",
    "\n",
    "if data:\n",
    "    df = convert_to_dataframe(data)\n",
    "    save_to_csv(df)\n",
    "else:\n",
    "    print(\"Failed to retrieve data.\")\n"
   ]
  }
 ],
 "metadata": {
  "kernelspec": {
   "display_name": "myenv",
   "language": "python",
   "name": "python3"
  },
  "language_info": {
   "codemirror_mode": {
    "name": "ipython",
    "version": 3
   },
   "file_extension": ".py",
   "mimetype": "text/x-python",
   "name": "python",
   "nbconvert_exporter": "python",
   "pygments_lexer": "ipython3",
   "version": "3.8.17"
  },
  "orig_nbformat": 4
 },
 "nbformat": 4,
 "nbformat_minor": 2
}
