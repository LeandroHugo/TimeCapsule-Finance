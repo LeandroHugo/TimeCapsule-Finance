{
 "cells": [
  {
   "cell_type": "code",
   "execution_count": 1,
   "id": "112b9639-d0ef-47bc-bd43-21c49ac2dfc1",
   "metadata": {},
   "outputs": [],
   "source": [
    "# Initial imports\n",
    "import os\n",
    "import requests\n",
    "import pandas as pd\n",
    "from dotenv import load_dotenv\n",
    "import json\n",
    "\n",
    "%matplotlib inline"
   ]
  },
  {
   "cell_type": "code",
   "execution_count": 2,
   "id": "e1514fe8-d2d0-4448-9fa7-245b718ef433",
   "metadata": {},
   "outputs": [
    {
     "data": {
      "text/plain": [
       "True"
      ]
     },
     "execution_count": 2,
     "metadata": {},
     "output_type": "execute_result"
    }
   ],
   "source": [
    "# Load .env enviroment variables\n",
    "load_dotenv()"
   ]
  },
  {
   "cell_type": "code",
   "execution_count": 3,
   "id": "4b8d20ef-0bd2-49a5-8932-67504f85ab57",
   "metadata": {},
   "outputs": [],
   "source": [
    "# Crypto API URL\n",
    "eth_url = \"https://api.alternative.me/v2/ticker/Ethereum/?convert=USD\""
   ]
  },
  {
   "cell_type": "code",
   "execution_count": 4,
   "id": "59b68b8e-74c0-48f1-be2a-b831e16a0820",
   "metadata": {},
   "outputs": [
    {
     "name": "stdout",
     "output_type": "stream",
     "text": [
      "{\n",
      "    \"data\": {\n",
      "        \"1027\": {\n",
      "            \"id\": 1027,\n",
      "            \"name\": \"Ethereum\",\n",
      "            \"symbol\": \"ETH\",\n",
      "            \"website_slug\": \"ethereum\",\n",
      "            \"rank\": 2,\n",
      "            \"circulating_supply\": 120178495,\n",
      "            \"total_supply\": 120178495,\n",
      "            \"max_supply\": 120178495,\n",
      "            \"quotes\": {\n",
      "                \"USD\": {\n",
      "                    \"price\": 1860.51,\n",
      "                    \"volume_24h\": 6289994877,\n",
      "                    \"market_cap\": 223626188709,\n",
      "                    \"percentage_change_1h\": 0.0366349568686611,\n",
      "                    \"percentage_change_24h\": -0.88313081964279,\n",
      "                    \"percentage_change_7d\": 0.690520381337937,\n",
      "                    \"percent_change_1h\": 0.0366349568686611,\n",
      "                    \"percent_change_24h\": -0.88313081964279,\n",
      "                    \"percent_change_7d\": 0.690520381337937\n",
      "                }\n",
      "            },\n",
      "            \"last_updated\": 1690832667\n",
      "        }\n",
      "    },\n",
      "    \"metadata\": {\n",
      "        \"timestamp\": 1690832667,\n",
      "        \"num_cryptocurrencies\": 3119,\n",
      "        \"error\": null\n",
      "    }\n",
      "}\n"
     ]
    }
   ],
   "source": [
    "# Call and View Data\n",
    "eth_data = requests.get(eth_url).json()\n",
    "print(json.dumps(eth_data, indent=4))"
   ]
  },
  {
   "cell_type": "code",
   "execution_count": 8,
   "id": "2e735efb-aed3-4a44-806b-e5f9c5b5523f",
   "metadata": {},
   "outputs": [
    {
     "name": "stdout",
     "output_type": "stream",
     "text": [
      "Current Ethereum Price: 1860.51\n"
     ]
    }
   ],
   "source": [
    "# Fetch current ETH price\n",
    "eth_price = eth_data['data']['1027']['quotes']['USD']['price']\n",
    "print('Current Ethereum Price:', eth_price)"
   ]
  },
  {
   "cell_type": "code",
   "execution_count": 9,
   "id": "5c4d2a63-862a-4efc-b9da-2fe5c8cfa7d5",
   "metadata": {},
   "outputs": [
    {
     "name": "stdout",
     "output_type": "stream",
     "text": [
      "Percent Eth Change-One Hour: 0.0366349568686611\n"
     ]
    }
   ],
   "source": [
    "# Fetch 1-hour change\n",
    "percent_change_1h = eth_data['data']['1027']['quotes']['USD']['percent_change_1h']\n",
    "print('Percent Eth Change, Last One Hour:', percent_change_1h)"
   ]
  },
  {
   "cell_type": "code",
   "execution_count": 10,
   "id": "71800832-4b73-4515-8b39-e0262a6bf60d",
   "metadata": {},
   "outputs": [
    {
     "name": "stdout",
     "output_type": "stream",
     "text": [
      "Percent Eth Change, Last 24 Hours: -0.88313081964279\n"
     ]
    }
   ],
   "source": [
    "# Fetch 24-hour change\n",
    "percent_change_24h = eth_data['data']['1027']['quotes']['USD']['percent_change_24h']\n",
    "print('Percent Eth Change, Last 24 Hours:', percent_change_24h)"
   ]
  },
  {
   "cell_type": "code",
   "execution_count": 11,
   "id": "ff54d0b8-05a6-4af9-a35f-6a706c0a1967",
   "metadata": {},
   "outputs": [
    {
     "name": "stdout",
     "output_type": "stream",
     "text": [
      "Percent Eth Change, Last 7 Days: 0.690520381337937\n"
     ]
    }
   ],
   "source": [
    "# Fetch 7-day change\n",
    "percent_change_7d = eth_data['data']['1027']['quotes']['USD']['percent_change_7d']\n",
    "print('Percent Eth Change, Last 7 Days:', percent_change_7d)"
   ]
  },
  {
   "cell_type": "code",
   "execution_count": null,
   "id": "03f5b9b2-5e9d-45c8-b0f7-e525da5df7ae",
   "metadata": {},
   "outputs": [],
   "source": [
    "# Use IEX Cloud to retrieve Historical Ethereum Data\n",
    "def get_crypto_price(symbol):\n",
    "    api_key = os.getenv('IEX_API_KEY')\n",
    "    api_url = f'https://cloud.iexapis.com/stable/crypto/{symbol}/price?token={api_key}'\n",
    "    raw = requests.get(api_url).json()\n",
    "    price = raw['price']\n",
    "    return float(price)\n",
    "\n",
    "eth = get_crypto_price('ethusd')\n",
    "print('Price of 1 Ethereum: {} USD'.format(eth))"
   ]
  },
  {
   "cell_type": "code",
   "execution_count": null,
   "id": "4caaafd7-5b91-405b-9c23-110e3a993fd8",
   "metadata": {},
   "outputs": [],
   "source": []
  },
  {
   "cell_type": "code",
   "execution_count": null,
   "id": "374532b3-e324-4fdb-b343-21c7bd01f651",
   "metadata": {},
   "outputs": [],
   "source": []
  }
 ],
 "metadata": {
  "kernelspec": {
   "display_name": "Python 3 (ipykernel)",
   "language": "python",
   "name": "python3"
  },
  "language_info": {
   "codemirror_mode": {
    "name": "ipython",
    "version": 3
   },
   "file_extension": ".py",
   "mimetype": "text/x-python",
   "name": "python",
   "nbconvert_exporter": "python",
   "pygments_lexer": "ipython3",
   "version": "3.7.13"
  }
 },
 "nbformat": 4,
 "nbformat_minor": 5
}
